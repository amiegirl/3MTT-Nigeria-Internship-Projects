{
  "nbformat": 4,
  "nbformat_minor": 0,
  "metadata": {
    "colab": {
      "provenance": [],
      "authorship_tag": "ABX9TyPV+b4lpGnKC2OmVOuUnflj"
    },
    "kernelspec": {
      "name": "python3",
      "display_name": "Python 3"
    },
    "language_info": {
      "name": "python"
    }
  },
  "cells": [
    {
      "cell_type": "code",
      "execution_count": 2,
      "metadata": {
        "colab": {
          "base_uri": "https://localhost:8080/"
        },
        "id": "rke8ftqKvLkJ",
        "outputId": "bec0bbe4-08e7-4690-f34a-4e4e52135ab2"
      },
      "outputs": [
        {
          "output_type": "stream",
          "name": "stdout",
          "text": [
            "Enter first number: 5\n",
            "Enter second number: 3\n",
            "Addition:  8.0\n",
            "Subtraction:  2.0\n",
            "Multiplication:  15.0\n",
            "Division:  1.6666666666666667\n"
          ]
        }
      ],
      "source": [
        "def arithmetic_operations(num1, num2):\n",
        "  \"\"\"\n",
        "  This function takes two numbers as input and performs basic\n",
        "  arithmetic operations (addition, subtraction, multiplication, division).\n",
        "  \"\"\"\n",
        "  addition = num1 + num2\n",
        "  subtraction = num1 - num2\n",
        "  multiplication = num1 * num2\n",
        "  division = num1 / num2\n",
        "  return addition, subtraction, multiplication, division\n",
        "\n",
        "# Get input from the user\n",
        "num1 = float(input(\"Enter first number: \"))\n",
        "num2 = float(input(\"Enter second number: \"))\n",
        "\n",
        "# Perform arithmetic operations\n",
        "add, sub, mul, div = arithmetic_operations(num1, num2)\n",
        "\n",
        "# Print the results\n",
        "print(\"Addition: \", add)\n",
        "print(\"Subtraction: \", sub)\n",
        "print(\"Multiplication: \", mul)\n",
        "print(\"Division: \", div)"
      ]
    }
  ]
}